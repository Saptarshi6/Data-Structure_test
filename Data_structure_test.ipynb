{
  "nbformat": 4,
  "nbformat_minor": 0,
  "metadata": {
    "colab": {
      "provenance": []
    },
    "kernelspec": {
      "name": "python3",
      "display_name": "Python 3"
    },
    "language_info": {
      "name": "python"
    }
  },
  "cells": [
    {
      "cell_type": "code",
      "execution_count": null,
      "metadata": {
        "id": "7xg0GJ2OAO4V"
      },
      "outputs": [],
      "source": [
        "#Theory Questions\n",
        "'''\n",
        "Q1] What are data structures, and why are they important?\n",
        "\n",
        "Ans- Data structures are ways of organizing and storing data in a computer so that it can be accessed and modified efficiently.\n",
        "     They define the relationships between data elements and provide methods for performing operations on them.\n",
        "\n",
        "Q2] Explain the difference between mutable and immutable data types with examples.\n",
        "\n",
        "Ans- Mutable objects can be modified after creation without changing their identity (i.e., memory address remains the same).\n",
        "     Examples: Lists, Dictionaries, Sets, User-defined classes.\n",
        "               mmutable objects cannot be changed after creation. Any modification results in a new object being created in memory.\n",
        "     Examples: Integers, Floats, Strings, Tuples, Booleans, Frozen sets.\n",
        "\n",
        "Q3] What are the main differences between lists and tuples in Python?\n",
        "\n",
        "Ans- The primary difference between lista and tuples are that lists are mutable but tuples are immutable. Secondly, lists are depicted by\n",
        "     squared brackets[] whereas tuples are depicted by parenthesis() .\n",
        "\n",
        "Q4] P Describe how dictionaries store data.\n",
        "\n",
        "Ans- A dictionary (dict) in Python is an unordered, mutable collection that stores data in key-value pairs. It is implemented using a hash table,\n",
        "     which allows for fast lookups, insertions, and deletions (on average, O(1) time complexity).\n",
        "\n",
        "Q5] Why might you use a set instead of a list in Python?\n",
        "\n",
        "Ans- A set and a list both store collections of items, but sets have unique advantages in certain situations.Sets automatically remove duplicates,\n",
        "     unlike lists.Sets support fast mathematical operations like union, intersection, and difference, making them ideal for data comparison.\n",
        "\n",
        "Q6] What is a string in Python, and how is it different from a list?\n",
        "\n",
        "Ans- A string in Python is a sequence of characters enclosed in single ('), double (\"), or triple (''' or \"\"\") quotes. Strings are immutable,\n",
        "     meaning they cannot be modified after creation.\n",
        "         Primary difference between string and list is that strings Are immutable, Lists are mutable.\n",
        "\n",
        "Q7]  How do tuples ensure data integrity in Python?\n",
        "\n",
        "Ans- Since tuples cannot be changed, they prevent accidental updates that could lead to bugs or data corruption.This is especially useful\n",
        "     when working with constants or fixed data.\n",
        "\n",
        "Q8] What is a hash table, and how does it relate to dictionaries in Python?\n",
        "\n",
        "Ans- A hash table (or hash map) is a data structure that stores key-value pairs and provides fast lookups, insertions, and deletions. It\n",
        "     uses a hash function to compute an index (or \"hash code\") for each key, allowing near constant-time (O(1)) access to values.\n",
        "\n",
        "Q9] Can lists contain different data types in Python?\n",
        "\n",
        "Ans- Yes! In Python, lists are heterogeneous, meaning they can store elements of different data types within the same list.\n",
        "\n",
        "Q10] Explain why strings are immutable in Python.\n",
        "\n",
        "Ans- Strings in Python are immutable, meaning once a string is created, it cannot be changed. Any modification results in a\n",
        "     new string being created instead of altering the original one.\n",
        "\n",
        "Q11] P What advantages do dictionaries offer over lists for certain tasks?\n",
        "\n",
        "Ans- While lists are useful for ordered collections, dictionaries (key-value pairs) provide significant advantages for certain tasks.\n",
        "     Dictionaries use hash tables, allowing O(1) average-time complexity for lookups.Dictionaries automatically prevent duplicate keys,\n",
        "     while lists allow duplicates.\n",
        "\n",
        "Q12] Describe a scenario where using a tuple would be preferable over a list.\n",
        "\n",
        "Ans- A tuple is preferable when storing fixed data that should not change, such as GPS coordinates for a location.\n",
        "\n",
        "Q13] How do sets handle duplicate values in Python?\n",
        "\n",
        "Ans- When you add duplicate values to a set, Python ignores the duplicates instead of storing them.\n",
        "\n",
        "Q14] How does the “in” keyword work differently for lists and dictionaries?\n",
        "\n",
        "Ans- The in keyword is used to check whether an element exists in a collection. However, its behavior differs for lists and dictionaries\n",
        "     due to differences in their underlying structures.\n",
        "\n",
        "Q15]  Can you modify the elements of a tuple? Explain why or why not.\n",
        "\n",
        "Ans- Tuples in Python are immutable, meaning their contents cannot be changed after creation.\n",
        "     Memory Efficiency – Tuples use less memory compared to lists.\n",
        "     Data Integrity – Prevents accidental modifications.\n",
        "     Hashability – Tuples can be used as dictionary keys or set elements.\n",
        "     Thread Safety – Tuples are safer in multi-threaded programs since they cannot be changed.\n",
        "\n",
        "Q16] What is a nested dictionary, and give an example of its use case?\n",
        "\n",
        "Ans- A nested dictionary is a dictionary inside another dictionary. It allows you to store structured data where each key maps to another\n",
        "     dictionary instead of a single value.Example- Basic Nested Dictionary .\n",
        "\n",
        "Q17] Describe the time complexity of accessing elements in a dictionary.\n",
        "\n",
        "Ans- When you access a value using a key, Python hashes the key and retrieves the value in constant time.\n",
        "     This means that no matter how large the dictionary is, accessing an element on average takes the same amount of time.\n",
        "\n",
        "Q18] In what situations are lists preferred over dictionaries?\n",
        "\n",
        "Ans- While dictionaries provide fast lookups (O(1)) using keys, lists are better in situations where:\n",
        "\n",
        "     i} Order matters\n",
        "     ii} You need indexed access\n",
        "     iii} The dataset is small\n",
        "     iv} You don’t need key-value pairs\n",
        "\n",
        "Q19] Why are dictionaries considered unordered, and how does that affect data retrieval?\n",
        "\n",
        "Ans- In Python, dictionaries were historically considered unordered collections because they were implemented using hash tables. This meant that:\n",
        "     Key-value pairs were stored based on their hash values, not their insertion order.\n",
        "\n",
        "Q20]  Explain the difference between a list and a dictionary in terms of data retrieval.\n",
        "\n",
        "Ans- Lists store elements sequentially, meaning retrieval is based on indexing.Whereas dictionaries store key-value pairs and use a hash table,\n",
        "     allowing fast lookups by key.\n",
        "\n",
        "'''"
      ]
    },
    {
      "cell_type": "code",
      "source": [
        "#Practical Questions"
      ],
      "metadata": {
        "id": "-IO_s2WPIbCt"
      },
      "execution_count": 1,
      "outputs": []
    },
    {
      "cell_type": "code",
      "source": [
        "#Q1] Write a code to create a string with your name and print it.\n",
        "\n",
        "my_name = \"John Wick\"\n",
        "print(my_name)"
      ],
      "metadata": {
        "colab": {
          "base_uri": "https://localhost:8080/"
        },
        "id": "a_7AkrHwIgjO",
        "outputId": "42f1652d-2bb4-47d9-d769-b095a61c4952"
      },
      "execution_count": 2,
      "outputs": [
        {
          "output_type": "stream",
          "name": "stdout",
          "text": [
            "John Wick\n"
          ]
        }
      ]
    },
    {
      "cell_type": "code",
      "source": [
        "#Q2] Write a code to find the length of the string \"Hello World\"\n",
        "\n",
        "text = \"Hello World\"\n",
        "print(len(text))"
      ],
      "metadata": {
        "colab": {
          "base_uri": "https://localhost:8080/"
        },
        "id": "nYPV_S_tI2Ay",
        "outputId": "9e038b9f-f218-46fe-bafd-ed2bf3f2e68d"
      },
      "execution_count": 3,
      "outputs": [
        {
          "output_type": "stream",
          "name": "stdout",
          "text": [
            "11\n"
          ]
        }
      ]
    },
    {
      "cell_type": "code",
      "source": [
        "#Q3] Write a code to slice the first 3 characters from the string \"Python Programming\"\n",
        "\n",
        "text = \"Python Programming\"\n",
        "first_three = text[:3]\n",
        "print(first_three)"
      ],
      "metadata": {
        "colab": {
          "base_uri": "https://localhost:8080/"
        },
        "id": "WEwwPsejJDNh",
        "outputId": "3cf20b94-c217-4068-f9fa-29f03dc041b0"
      },
      "execution_count": 4,
      "outputs": [
        {
          "output_type": "stream",
          "name": "stdout",
          "text": [
            "Pyt\n"
          ]
        }
      ]
    },
    {
      "cell_type": "code",
      "source": [
        "#Q4] Write a code to convert the string \"hello\" to uppercase.\n",
        "\n",
        "text = \"hello\"\n",
        "uppercase_text = text.upper()\n",
        "print(uppercase_text)"
      ],
      "metadata": {
        "colab": {
          "base_uri": "https://localhost:8080/"
        },
        "id": "s72dXcelJR2H",
        "outputId": "174173c0-233b-4b3c-b810-518dcf4382af"
      },
      "execution_count": 5,
      "outputs": [
        {
          "output_type": "stream",
          "name": "stdout",
          "text": [
            "HELLO\n"
          ]
        }
      ]
    },
    {
      "cell_type": "code",
      "source": [
        "#Q5] Write a code to replace the word \"apple\" with \"orange\" in the string \"I like apple\"\n",
        "\n",
        "text = \"I like apple\"\n",
        "new_text = text.replace(\"apple\", \"orange\")\n",
        "print(new_text)"
      ],
      "metadata": {
        "colab": {
          "base_uri": "https://localhost:8080/"
        },
        "id": "BxR3TRJfJiyN",
        "outputId": "7f196d77-1127-4d55-cd81-c20b53e1c252"
      },
      "execution_count": 6,
      "outputs": [
        {
          "output_type": "stream",
          "name": "stdout",
          "text": [
            "I like orange\n"
          ]
        }
      ]
    },
    {
      "cell_type": "code",
      "source": [
        "#Q6] Write a code to create a list with numbers 1 to 5 and print it.\n",
        "\n",
        "numbers= [1,2,3,4,5]\n",
        "print(numbers)"
      ],
      "metadata": {
        "colab": {
          "base_uri": "https://localhost:8080/"
        },
        "id": "qxuXUYNMJxRl",
        "outputId": "58ba354c-12b0-46be-9994-7d517ca5c684"
      },
      "execution_count": 7,
      "outputs": [
        {
          "output_type": "stream",
          "name": "stdout",
          "text": [
            "[1, 2, 3, 4, 5]\n"
          ]
        }
      ]
    },
    {
      "cell_type": "code",
      "source": [
        "#Q7] Write a code to append the number 10 to the list [1, 2, 3, 4]\n",
        "\n",
        "numbers = [1, 2, 3, 4]\n",
        "numbers.append(10)\n",
        "print(numbers)\n"
      ],
      "metadata": {
        "colab": {
          "base_uri": "https://localhost:8080/"
        },
        "id": "4jjynQSVKGPb",
        "outputId": "480eb2f5-27c6-4d02-8d48-ff7ae1de2d6a"
      },
      "execution_count": 8,
      "outputs": [
        {
          "output_type": "stream",
          "name": "stdout",
          "text": [
            "[1, 2, 3, 4, 10]\n"
          ]
        }
      ]
    },
    {
      "cell_type": "code",
      "source": [
        "#Q8] Write a code to remove the number 3 from the list [1, 2, 3, 4, 5]\n",
        "\n",
        "numbers = [1, 2, 3, 4, 5]\n",
        "numbers.remove(3)\n",
        "print(numbers)"
      ],
      "metadata": {
        "colab": {
          "base_uri": "https://localhost:8080/"
        },
        "id": "5IhtZ-hqKUq6",
        "outputId": "2c13fb73-7ba8-4edf-ebab-b076a22247c1"
      },
      "execution_count": 9,
      "outputs": [
        {
          "output_type": "stream",
          "name": "stdout",
          "text": [
            "[1, 2, 4, 5]\n"
          ]
        }
      ]
    },
    {
      "cell_type": "code",
      "source": [
        "#Q9] Write a code to access the second element in the list ['a', 'b', 'c', 'd']\n",
        "\n",
        "letters = ['a', 'b', 'c', 'd']\n",
        "second_element = letters[1]\n",
        "print(second_element)"
      ],
      "metadata": {
        "colab": {
          "base_uri": "https://localhost:8080/"
        },
        "id": "WM3k2d0dKiHr",
        "outputId": "96ced930-71a6-4f76-8181-f13cb53be0ed"
      },
      "execution_count": 10,
      "outputs": [
        {
          "output_type": "stream",
          "name": "stdout",
          "text": [
            "b\n"
          ]
        }
      ]
    },
    {
      "cell_type": "code",
      "source": [
        "#Q10] Write a code to reverse the list [10, 20, 30, 40, 50]\n",
        "\n",
        "numbers = [10, 20, 30, 40, 50]\n",
        "numbers.reverse()\n",
        "print(numbers)"
      ],
      "metadata": {
        "colab": {
          "base_uri": "https://localhost:8080/"
        },
        "id": "K4Z1tc5HKzVb",
        "outputId": "b9d18c45-aefc-4cff-90ba-a70cd31a9821"
      },
      "execution_count": 11,
      "outputs": [
        {
          "output_type": "stream",
          "name": "stdout",
          "text": [
            "[50, 40, 30, 20, 10]\n"
          ]
        }
      ]
    },
    {
      "cell_type": "code",
      "source": [
        "#Q11] Write a code to create a tuple with the elements 100, 200, 300 and print it\n",
        "\n",
        "numbers=(100,200,300)\n",
        "print(numbers)"
      ],
      "metadata": {
        "colab": {
          "base_uri": "https://localhost:8080/"
        },
        "id": "0c3n2oLtLB1Z",
        "outputId": "df095ad5-ed81-4138-f656-5b0f4cbae155"
      },
      "execution_count": 12,
      "outputs": [
        {
          "output_type": "stream",
          "name": "stdout",
          "text": [
            "(100, 200, 300)\n"
          ]
        }
      ]
    },
    {
      "cell_type": "code",
      "source": [
        "#Q12] Write a code to access the second-to-last element of the tuple ('red', 'green', 'blue', 'yellow').\n",
        "\n",
        "colors = ('red', 'green', 'blue', 'yellow')\n",
        "second_to_last = colors[-2]\n",
        "print(second_to_last)"
      ],
      "metadata": {
        "colab": {
          "base_uri": "https://localhost:8080/"
        },
        "id": "H31_MrHELUQB",
        "outputId": "f8815cef-a1b0-4ba8-fc8f-37055f2bbf22"
      },
      "execution_count": 13,
      "outputs": [
        {
          "output_type": "stream",
          "name": "stdout",
          "text": [
            "blue\n"
          ]
        }
      ]
    },
    {
      "cell_type": "code",
      "source": [
        "#Q13] Write a code to find the minimum number in the tuple (10, 20, 5, 15)\n",
        "\n",
        "numbers = (10, 20, 5, 15)\n",
        "min_number = min(numbers)\n",
        "print(min_number)"
      ],
      "metadata": {
        "colab": {
          "base_uri": "https://localhost:8080/"
        },
        "id": "zN2GXu5vLjG0",
        "outputId": "9167ed66-5b9e-4f7b-8b07-cc1cf4fb7109"
      },
      "execution_count": 14,
      "outputs": [
        {
          "output_type": "stream",
          "name": "stdout",
          "text": [
            "5\n"
          ]
        }
      ]
    },
    {
      "cell_type": "code",
      "source": [
        "#Q14] Write a code to find the index of the element \"cat\" in the tuple ('dog', 'cat', 'rabbit').\n",
        "\n",
        "animals = ('dog', 'cat', 'rabbit')\n",
        "cat_index = animals.index(\"cat\")\n",
        "print(cat_index)"
      ],
      "metadata": {
        "colab": {
          "base_uri": "https://localhost:8080/"
        },
        "id": "jKZp9nAiLxWo",
        "outputId": "fe65f9d2-cae3-4855-b3db-5a7fd649915c"
      },
      "execution_count": 15,
      "outputs": [
        {
          "output_type": "stream",
          "name": "stdout",
          "text": [
            "1\n"
          ]
        }
      ]
    },
    {
      "cell_type": "code",
      "source": [
        "#Q15] Write a code to create a tuple containing three different fruits and check if \"kiwi\" is in it.\n",
        "\n",
        "fruits = (\"apple\", \"banana\", \"cherry\")\n",
        "if \"kiwi\" in fruits:\n",
        "    print(\"Kiwi is in the tuple.\")\n",
        "else:\n",
        "    print(\"Kiwi is not in the tuple.\")"
      ],
      "metadata": {
        "colab": {
          "base_uri": "https://localhost:8080/"
        },
        "id": "dXt-EgB1MGjA",
        "outputId": "1a63bc33-e2c7-4c31-9beb-8b4b37221f34"
      },
      "execution_count": 16,
      "outputs": [
        {
          "output_type": "stream",
          "name": "stdout",
          "text": [
            "Kiwi is not in the tuple.\n"
          ]
        }
      ]
    },
    {
      "cell_type": "code",
      "source": [
        "#Q16]  Write a code to create a set with the elements 'a', 'b', 'c' and print it\n",
        "\n",
        "my_set = {'a', 'b', 'c'}\n",
        "print(my_set)"
      ],
      "metadata": {
        "colab": {
          "base_uri": "https://localhost:8080/"
        },
        "id": "4JNL4NOCMTWb",
        "outputId": "60bb7645-b63d-48c5-a0f6-c2b962e8d10c"
      },
      "execution_count": 17,
      "outputs": [
        {
          "output_type": "stream",
          "name": "stdout",
          "text": [
            "{'a', 'c', 'b'}\n"
          ]
        }
      ]
    },
    {
      "cell_type": "code",
      "source": [
        "#Q17]  Write a code to clear all elements from the set {1, 2, 3, 4, 5}.\n",
        "\n",
        "numbers = {1, 2, 3, 4, 5}\n",
        "numbers.clear()\n",
        "print(numbers)"
      ],
      "metadata": {
        "colab": {
          "base_uri": "https://localhost:8080/"
        },
        "id": "qc-T0RWTMkLg",
        "outputId": "5585ee1a-4fd4-4703-91f7-d4cc8155bb94"
      },
      "execution_count": 18,
      "outputs": [
        {
          "output_type": "stream",
          "name": "stdout",
          "text": [
            "set()\n"
          ]
        }
      ]
    },
    {
      "cell_type": "code",
      "source": [
        "#Q18] Write a code to remove the element 4 from the set {1, 2, 3, 4}.\n",
        "\n",
        "numbers = {1, 2, 3, 4}\n",
        "numbers.remove(4)\n",
        "print(numbers)"
      ],
      "metadata": {
        "colab": {
          "base_uri": "https://localhost:8080/"
        },
        "id": "kfb3Vd_JMzly",
        "outputId": "bdd5c45b-2796-4eca-da64-dda8b5066d58"
      },
      "execution_count": 19,
      "outputs": [
        {
          "output_type": "stream",
          "name": "stdout",
          "text": [
            "{1, 2, 3}\n"
          ]
        }
      ]
    },
    {
      "cell_type": "code",
      "source": [
        "#Q19] Write a code to find the union of two sets {1, 2, 3} and {3, 4, 5}\n",
        "\n",
        "set1 = {1, 2, 3}\n",
        "set2 = {3, 4, 5}\n",
        "union_set = set1.union(set2)\n",
        "print(union_set)"
      ],
      "metadata": {
        "colab": {
          "base_uri": "https://localhost:8080/"
        },
        "id": "8puyAinOM_Xg",
        "outputId": "79a40673-3fc7-43da-e8c5-ce8065422211"
      },
      "execution_count": 20,
      "outputs": [
        {
          "output_type": "stream",
          "name": "stdout",
          "text": [
            "{1, 2, 3, 4, 5}\n"
          ]
        }
      ]
    },
    {
      "cell_type": "code",
      "source": [
        "#Q20] Write a code to find the intersection of two sets {1, 2, 3} and {2, 3, 4}.\n",
        "\n",
        "set1 = {1, 2, 3}\n",
        "set2 = {2, 3, 4}\n",
        "intersection_set = set1.intersection(set2)\n",
        "print(intersection_set)"
      ],
      "metadata": {
        "colab": {
          "base_uri": "https://localhost:8080/"
        },
        "id": "HmpolzE3NLi0",
        "outputId": "9fae6216-85ac-432a-a2c3-db7aebedd913"
      },
      "execution_count": 22,
      "outputs": [
        {
          "output_type": "stream",
          "name": "stdout",
          "text": [
            "{2, 3}\n"
          ]
        }
      ]
    },
    {
      "cell_type": "code",
      "source": [
        "#Q21] Write a code to create a dictionary with the keys \"name\", \"age\", and \"city\", and print it.\n",
        "\n",
        "person = {\n",
        "    \"name\": \"Alice\",\n",
        "    \"age\": 25,\n",
        "    \"city\": \"New York\"}\n",
        "print(person)"
      ],
      "metadata": {
        "colab": {
          "base_uri": "https://localhost:8080/"
        },
        "id": "B1HgkYYiNaKi",
        "outputId": "46ca7522-df01-4841-dae2-e388e32ee776"
      },
      "execution_count": 23,
      "outputs": [
        {
          "output_type": "stream",
          "name": "stdout",
          "text": [
            "{'name': 'Alice', 'age': 25, 'city': 'New York'}\n"
          ]
        }
      ]
    },
    {
      "cell_type": "code",
      "source": [
        "#Q22] Write a code to add a new key-value pair \"country\": \"USA\" to the dictionary {'name': 'John', 'age': 25}.\n",
        "\n",
        "person = {'name': 'John', 'age': 25}\n",
        "person['country'] = 'USA'\n",
        "print(person)"
      ],
      "metadata": {
        "colab": {
          "base_uri": "https://localhost:8080/"
        },
        "id": "hbX0MQ3INmqI",
        "outputId": "2bfc687f-5b39-4702-ca64-8436e079b856"
      },
      "execution_count": 24,
      "outputs": [
        {
          "output_type": "stream",
          "name": "stdout",
          "text": [
            "{'name': 'John', 'age': 25, 'country': 'USA'}\n"
          ]
        }
      ]
    },
    {
      "cell_type": "code",
      "source": [
        "#Q23]  Write a code to access the value associated with the key \"name\" in the dictionary {'name': 'Alice', 'age': 30}.\n",
        "\n",
        "person = {'name': 'Alice', 'age': 30}\n",
        "name_value = person['name']\n",
        "print(name_value)"
      ],
      "metadata": {
        "colab": {
          "base_uri": "https://localhost:8080/"
        },
        "id": "8NtEE95nN2UE",
        "outputId": "749de9d3-de92-4ac2-a6d3-23124aef16f6"
      },
      "execution_count": 25,
      "outputs": [
        {
          "output_type": "stream",
          "name": "stdout",
          "text": [
            "Alice\n"
          ]
        }
      ]
    },
    {
      "cell_type": "code",
      "source": [
        "#Q24] Write a code to remove the key \"age\" from the dictionary {'name': 'Bob', 'age': 22, 'city': 'New York'}.\n",
        "\n",
        "person = {'name': 'Bob', 'age': 22, 'city': 'New York'}\n",
        "del person['age']\n",
        "print(person)"
      ],
      "metadata": {
        "colab": {
          "base_uri": "https://localhost:8080/"
        },
        "id": "KRoqWHrUODUr",
        "outputId": "438e15a0-b12a-4b86-87d1-c16e84e47906"
      },
      "execution_count": 26,
      "outputs": [
        {
          "output_type": "stream",
          "name": "stdout",
          "text": [
            "{'name': 'Bob', 'city': 'New York'}\n"
          ]
        }
      ]
    },
    {
      "cell_type": "code",
      "source": [
        "#Q25] Write a code to check if the key \"city\" exists in the dictionary {'name': 'Alice', 'city': 'Paris'}.\n",
        "\n",
        "person = {'name': 'Alice', 'city': 'Paris'}\n",
        "if 'city' in person:\n",
        "    print(\"Key 'city' exists in the dictionary.\")\n",
        "else:\n",
        "    print(\"Key 'city' does not exist in the dictionary.\")"
      ],
      "metadata": {
        "colab": {
          "base_uri": "https://localhost:8080/"
        },
        "id": "gxjC4PAhOQys",
        "outputId": "d1c3d92a-9554-4d7a-b1f9-c5c5ced9d575"
      },
      "execution_count": 27,
      "outputs": [
        {
          "output_type": "stream",
          "name": "stdout",
          "text": [
            "Key 'city' exists in the dictionary.\n"
          ]
        }
      ]
    },
    {
      "cell_type": "code",
      "source": [
        "#Q26] Write a code to create a list, a tuple, and a dictionary, and print them all.\n",
        "\n",
        "my_list = [1, 2, 3, 4, 5]\n",
        "\n",
        "my_tuple = ('apple', 'banana', 'cherry')\n",
        "\n",
        "my_dict = {'name': 'Alice', 'age': 25, 'city': 'New York'}\n",
        "\n",
        "print(\"List:\", my_list)\n",
        "print(\"Tuple:\", my_tuple)\n",
        "print(\"Dictionary:\", my_dict)"
      ],
      "metadata": {
        "colab": {
          "base_uri": "https://localhost:8080/"
        },
        "id": "XUO9dSxeOeE-",
        "outputId": "c6b86855-7209-4db5-ab15-6018125a6cae"
      },
      "execution_count": 28,
      "outputs": [
        {
          "output_type": "stream",
          "name": "stdout",
          "text": [
            "List: [1, 2, 3, 4, 5]\n",
            "Tuple: ('apple', 'banana', 'cherry')\n",
            "Dictionary: {'name': 'Alice', 'age': 25, 'city': 'New York'}\n"
          ]
        }
      ]
    },
    {
      "cell_type": "code",
      "source": [
        "#Q27] Write a code to create a list of 5 random numbers between 1 and 100, sort it in ascending order, and print the result.(replaced)\n",
        "\n",
        "import random\n",
        "\n",
        "random_numbers = random.sample(range(1, 101), 5)\n",
        "\n",
        "random_numbers.sort()\n",
        "\n",
        "print(random_numbers)"
      ],
      "metadata": {
        "colab": {
          "base_uri": "https://localhost:8080/"
        },
        "id": "knOjhHtXOqh1",
        "outputId": "1cf642a8-8134-404a-91da-67320b8a025b"
      },
      "execution_count": 29,
      "outputs": [
        {
          "output_type": "stream",
          "name": "stdout",
          "text": [
            "[2, 30, 63, 83, 96]\n"
          ]
        }
      ]
    },
    {
      "cell_type": "code",
      "source": [
        "#Q28] Write a code to create a list with strings and print the element at the third index.\n",
        "\n",
        "words = [\"apple\", \"banana\", \"cherry\", \"date\", \"elderberry\"]\n",
        "print(words[3])"
      ],
      "metadata": {
        "colab": {
          "base_uri": "https://localhost:8080/"
        },
        "id": "ZiLP373XO7WQ",
        "outputId": "d9c68cbf-3091-4bad-c7c9-3ca572b01b43"
      },
      "execution_count": 30,
      "outputs": [
        {
          "output_type": "stream",
          "name": "stdout",
          "text": [
            "date\n"
          ]
        }
      ]
    },
    {
      "cell_type": "code",
      "source": [
        "#Q29] Write a code to combine two dictionaries into one and print the result.\n",
        "\n",
        "dict1 = {'name': 'Alice', 'age': 25}\n",
        "dict2 = {'city': 'New York', 'country': 'USA'}\n",
        "\n",
        "combined_dict = {**dict1, **dict2}\n",
        "\n",
        "print(combined_dict)"
      ],
      "metadata": {
        "colab": {
          "base_uri": "https://localhost:8080/"
        },
        "id": "gkNmnu2bPGyE",
        "outputId": "a422322d-2c4a-4ef2-91f2-a917ce623afc"
      },
      "execution_count": 31,
      "outputs": [
        {
          "output_type": "stream",
          "name": "stdout",
          "text": [
            "{'name': 'Alice', 'age': 25, 'city': 'New York', 'country': 'USA'}\n"
          ]
        }
      ]
    },
    {
      "cell_type": "code",
      "source": [
        "#Q30]  Write a code to convert a list of strings into a set.\n",
        "\n",
        "words_list = [\"apple\", \"banana\", \"cherry\", \"apple\", \"banana\"]\n",
        "\n",
        "words_set = set(words_list)\n",
        "\n",
        "print(words_set)"
      ],
      "metadata": {
        "colab": {
          "base_uri": "https://localhost:8080/"
        },
        "id": "vdUx1qMqPTbn",
        "outputId": "57b8df0c-ac6d-4541-ba06-7fc6c31be4f6"
      },
      "execution_count": 32,
      "outputs": [
        {
          "output_type": "stream",
          "name": "stdout",
          "text": [
            "{'apple', 'cherry', 'banana'}\n"
          ]
        }
      ]
    }
  ]
}